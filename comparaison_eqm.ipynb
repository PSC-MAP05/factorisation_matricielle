{
 "cells": [
  {
   "cell_type": "markdown",
   "metadata": {},
   "source": [
    "# Comparaison des performances (exactitude) de différents algorithmes"
   ]
  },
  {
   "cell_type": "code",
   "execution_count": 15,
   "metadata": {},
   "outputs": [],
   "source": [
    "import numpy as np\n",
    "import pandas as pd\n",
    "import matplotlib.pyplot as plt\n",
    "from surprise import Reader, Dataset\n",
    "from surprise import SVD, NMF, KNNWithMeans, CoClustering\n",
    "import surprise"
   ]
  },
  {
   "cell_type": "code",
   "execution_count": 11,
   "metadata": {},
   "outputs": [],
   "source": [
    "livres_up=pd.read_csv(\"dataset_livres_updatedBIS.csv\")\n",
    "df=pd.read_csv(\"dataset_livres_updatedBIS.csv\")\n",
    "livres=pd.read_csv(\"dataset_livres.csv\")\n",
    "movie_1M=pd.read_csv(\"dataset_movie_1M.csv\")\n",
    "movie_100k=pd.read_csv(\"dataset_movie_100k.csv\")\n",
    "restaurant=pd.read_csv(\"dataset_restaurant.csv\")"
   ]
  },
  {
   "cell_type": "code",
   "execution_count": 12,
   "metadata": {},
   "outputs": [],
   "source": [
    "resultats=[]"
   ]
  },
  {
   "cell_type": "code",
   "execution_count": 13,
   "metadata": {},
   "outputs": [],
   "source": [
    "# choix du dataset\n",
    "data=movie_100k"
   ]
  },
  {
   "cell_type": "code",
   "execution_count": 14,
   "metadata": {},
   "outputs": [
    {
     "name": "stdout",
     "output_type": "stream",
     "text": [
      "Evaluating MSE, MAE of algorithm SVD on 3 split(s).\n",
      "\n",
      "                  Fold 1  Fold 2  Fold 3  Mean    Std     \n",
      "MSE (testset)     0.8123  0.8200  0.8092  0.8139  0.0045  \n",
      "MAE (testset)     0.6954  0.7015  0.6936  0.6968  0.0034  \n",
      "Fit time          0.84    0.96    1.06    0.95    0.09    \n",
      "Test time         0.23    0.22    0.29    0.24    0.03    \n",
      "Evaluating MSE, MAE of algorithm NMF on 3 split(s).\n",
      "\n",
      "                  Fold 1  Fold 2  Fold 3  Mean    Std     \n",
      "MSE (testset)     0.9299  0.9573  0.9492  0.9455  0.0115  \n",
      "MAE (testset)     0.7324  0.7398  0.7396  0.7373  0.0034  \n",
      "Fit time          1.25    1.17    1.15    1.19    0.04    \n",
      "Test time         0.25    0.19    0.25    0.23    0.03    \n",
      "Computing the msd similarity matrix...\n",
      "Done computing similarity matrix.\n",
      "Computing the msd similarity matrix...\n",
      "Done computing similarity matrix.\n",
      "Computing the msd similarity matrix...\n",
      "Done computing similarity matrix.\n",
      "Evaluating MSE, MAE of algorithm KNNWithMeans on 3 split(s).\n",
      "\n",
      "                  Fold 1  Fold 2  Fold 3  Mean    Std     \n",
      "MSE (testset)     0.8566  0.8658  0.8582  0.8602  0.0040  \n",
      "MAE (testset)     0.7095  0.7109  0.7087  0.7097  0.0009  \n",
      "Fit time          0.21    0.24    0.23    0.22    0.01    \n",
      "Test time         3.95    3.13    3.06    3.38    0.40    \n",
      "Evaluating MSE, MAE of algorithm CoClustering on 3 split(s).\n",
      "\n",
      "                  Fold 1  Fold 2  Fold 3  Mean    Std     \n",
      "MSE (testset)     0.9436  0.9582  0.9534  0.9518  0.0061  \n",
      "MAE (testset)     0.7517  0.7593  0.7561  0.7557  0.0031  \n",
      "Fit time          2.64    2.53    2.79    2.65    0.11    \n",
      "Test time         0.24    0.24    0.26    0.25    0.01    \n"
     ]
    },
    {
     "data": {
      "text/html": [
       "<div>\n",
       "<style scoped>\n",
       "    .dataframe tbody tr th:only-of-type {\n",
       "        vertical-align: middle;\n",
       "    }\n",
       "\n",
       "    .dataframe tbody tr th {\n",
       "        vertical-align: top;\n",
       "    }\n",
       "\n",
       "    .dataframe thead th {\n",
       "        text-align: right;\n",
       "    }\n",
       "</style>\n",
       "<table border=\"1\" class=\"dataframe\">\n",
       "  <thead>\n",
       "    <tr style=\"text-align: right;\">\n",
       "      <th></th>\n",
       "      <th>Erreur Quadratique Moyenne</th>\n",
       "      <th>Erreur Absolue Moyenne</th>\n",
       "      <th>Temps (s)</th>\n",
       "    </tr>\n",
       "    <tr>\n",
       "      <th>Algorithm</th>\n",
       "      <th></th>\n",
       "      <th></th>\n",
       "      <th></th>\n",
       "    </tr>\n",
       "  </thead>\n",
       "  <tbody>\n",
       "    <tr>\n",
       "      <td>SVD</td>\n",
       "      <td>0.813868</td>\n",
       "      <td>0.696806</td>\n",
       "      <td>0.953854</td>\n",
       "    </tr>\n",
       "    <tr>\n",
       "      <td>KNNWithMeans</td>\n",
       "      <td>0.860217</td>\n",
       "      <td>0.709683</td>\n",
       "      <td>0.224743</td>\n",
       "    </tr>\n",
       "    <tr>\n",
       "      <td>NMF</td>\n",
       "      <td>0.945466</td>\n",
       "      <td>0.737269</td>\n",
       "      <td>1.190683</td>\n",
       "    </tr>\n",
       "    <tr>\n",
       "      <td>CoClustering</td>\n",
       "      <td>0.951753</td>\n",
       "      <td>0.755685</td>\n",
       "      <td>2.652250</td>\n",
       "    </tr>\n",
       "  </tbody>\n",
       "</table>\n",
       "</div>"
      ],
      "text/plain": [
       "              Erreur Quadratique Moyenne  Erreur Absolue Moyenne  Temps (s)\n",
       "Algorithm                                                                  \n",
       "SVD                             0.813868                0.696806   0.953854\n",
       "KNNWithMeans                    0.860217                0.709683   0.224743\n",
       "NMF                             0.945466                0.737269   1.190683\n",
       "CoClustering                    0.951753                0.755685   2.652250"
      ]
     },
     "execution_count": 14,
     "metadata": {},
     "output_type": "execute_result"
    }
   ],
   "source": [
    "reader = Reader()\n",
    "data = Dataset.load_from_df(data, reader)\n",
    "benchmark = []\n",
    "\n",
    "for algo in [SVD(n_factors=15,n_epochs=10),  NMF(n_factors=15,n_epochs=10), KNNWithMeans(epochs=10), CoClustering()]:\n",
    "\n",
    "    resultats = surprise.model_selection.validation.cross_validate(algo, data, measures=['MSE','mae'], cv=3, verbose=True)\n",
    "\n",
    "    tmp = pd.DataFrame.from_dict(resultats).mean(axis=0)\n",
    "    tmp = tmp.append(pd.Series([str(algo).split(' ')[0].split('.')[-1]], index=['Algorithm']))\n",
    "    benchmark.append(tmp)\n",
    "\n",
    "comparaison=pd.DataFrame(benchmark).set_index('Algorithm')\n",
    "comparaison.columns=['Erreur Quadratique Moyenne','Erreur Absolue Moyenne','Temps (s)','Temps_test']\n",
    "comparaison=comparaison[['Erreur Quadratique Moyenne','Erreur Absolue Moyenne','Temps (s)']].sort_values('Erreur Quadratique Moyenne')\n",
    "\n",
    "comparaison"
   ]
  }
 ],
 "metadata": {
  "kernelspec": {
   "display_name": "Python 3",
   "language": "python",
   "name": "python3"
  },
  "language_info": {
   "codemirror_mode": {
    "name": "ipython",
    "version": 3
   },
   "file_extension": ".py",
   "mimetype": "text/x-python",
   "name": "python",
   "nbconvert_exporter": "python",
   "pygments_lexer": "ipython3",
   "version": "3.7.4"
  }
 },
 "nbformat": 4,
 "nbformat_minor": 2
}
