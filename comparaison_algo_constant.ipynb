{
 "cells": [
  {
   "cell_type": "markdown",
   "metadata": {},
   "source": [
    "# On regarde les performances d'un algo qui prédit toujours la moyenne."
   ]
  },
  {
   "cell_type": "code",
   "execution_count": 32,
   "metadata": {},
   "outputs": [],
   "source": [
    "import numpy as np\n",
    "import pandas as pd\n",
    "from surprise import Reader, Dataset\n",
    "from surprise import SVD\n",
    "from surprise import SVD, NMF, KNNWithMeans, CoClustering\n",
    "import surprise\n",
    "from surprise.model_selection import train_test_split\n",
    "import time\n",
    "from collections import defaultdict\n",
    "from surprise import Dataset\n",
    "from surprise import SVD\n",
    "from surprise.model_selection import KFold"
   ]
  },
  {
   "cell_type": "markdown",
   "metadata": {},
   "source": [
    "## Dataset movie_100k"
   ]
  },
  {
   "cell_type": "code",
   "execution_count": 26,
   "metadata": {},
   "outputs": [],
   "source": [
    "data = pd.read_csv('dataset_movie_100k.csv')[['user_id','book_id','rating']]"
   ]
  },
  {
   "cell_type": "code",
   "execution_count": 27,
   "metadata": {},
   "outputs": [
    {
     "name": "stdout",
     "output_type": "stream",
     "text": [
      "EAM =  0.8498001974245242\n",
      "EQM =  1.1194884644316638\n",
      "Temps :  0.12865638732910156 secondes.\n"
     ]
    }
   ],
   "source": [
    "a=time.time()\n",
    "eam=0\n",
    "l=list(data['rating'])\n",
    "lg=len(l)\n",
    "l=np.array(l)\n",
    "moy=l.mean()\n",
    "for x in range(lg):\n",
    "    eam+=abs(moy-l[x])\n",
    "    \n",
    "print(\"EAM = \", eam/lg)\n",
    "print(\"EQM = \", l.var())\n",
    "print(\"Temps : \",time.time()-a , \"secondes.\")"
   ]
  },
  {
   "cell_type": "markdown",
   "metadata": {},
   "source": [
    "## precison et recall"
   ]
  },
  {
   "cell_type": "code",
   "execution_count": 28,
   "metadata": {},
   "outputs": [],
   "source": [
    "reader = Reader()\n",
    "data = Dataset.load_from_df(data, reader)\n",
    "\n",
    "trainset, testset = train_test_split(data, test_size=.25)"
   ]
  },
  {
   "cell_type": "code",
   "execution_count": 29,
   "metadata": {},
   "outputs": [],
   "source": [
    "algo = SVD(n_factors=1, n_epochs=1,lr_all=.01, reg_all=.01) #on l'utilise juste pour avaoir la bonne forme des résultats"
   ]
  },
  {
   "cell_type": "code",
   "execution_count": 30,
   "metadata": {},
   "outputs": [],
   "source": [
    "# code source à peu près présent dans la documentation de surprise\n",
    "def precision_recall_at_k(predictions, k=10, threshold=4,moyenne=3.543):\n",
    "    '''Return precision and recall at k metrics for each user.'''\n",
    "\n",
    "    # First map the predictions to each user.\n",
    "    user_est_true = defaultdict(list)\n",
    "    for uid, _, true_r, est, _ in predictions:\n",
    "        user_est_true[uid].append((moyenne, true_r))   #on met moyenne au lieu de est \n",
    "\n",
    "    precisions = dict()\n",
    "    recalls = dict()\n",
    "    for uid, user_ratings in user_est_true.items():\n",
    "\n",
    "        # Sort user ratings by estimated value\n",
    "        user_ratings.sort(key=lambda x: x[0], reverse=True)\n",
    "\n",
    "        # Number of relevant items\n",
    "        n_rel = sum((true_r >= threshold) for (_, true_r) in user_ratings)\n",
    "\n",
    "        # Number of recommended items in top k\n",
    "        l=[moyenne for j in range(len(user_ratings[:k]))]\n",
    "        n_rec_k = sum((est >= threshold) for est in l)\n",
    "        #on a fait un cgt ici aussi\n",
    "\n",
    "        # Number of relevant and recommended items in top k\n",
    "        n_rel_and_rec_k = sum(((true_r >= threshold) and (moyenne >= threshold))\n",
    "                              for (est, true_r) in user_ratings[:k])\n",
    "\n",
    "        # Precision@K\n",
    "        precisions[uid] = n_rel_and_rec_k / n_rec_k if n_rec_k != 0 else 1\n",
    "\n",
    "        # Recall@K\n",
    "        recalls[uid] = n_rel_and_rec_k / n_rel if n_rel != 0 else 1\n",
    "\n",
    "    return precisions, recalls\n",
    "\n",
    "\n",
    "def F_score(pr,rc):\n",
    "    return 2*(pr*rc)/(rc+pr)"
   ]
  },
  {
   "cell_type": "markdown",
   "metadata": {},
   "source": [
    "### K-fold (ici 5-fold)"
   ]
  },
  {
   "cell_type": "code",
   "execution_count": 31,
   "metadata": {},
   "outputs": [
    {
     "name": "stdout",
     "output_type": "stream",
     "text": [
      "==================================================\n",
      "FOLD # 1\n",
      "==================================================\n",
      "1.0\n",
      "0.020895522388059702\n",
      "0.04093567251461988\n",
      "==================================================\n",
      "FOLD # 2\n",
      "==================================================\n",
      "1.0\n",
      "0.03278688524590164\n",
      "0.06349206349206349\n",
      "==================================================\n",
      "FOLD # 3\n",
      "==================================================\n",
      "1.0\n",
      "0.014925373134328358\n",
      "0.029411764705882353\n",
      "==================================================\n",
      "FOLD # 4\n",
      "==================================================\n",
      "1.0\n",
      "0.03134328358208955\n",
      "0.06078147612156295\n",
      "==================================================\n",
      "FOLD # 5\n",
      "==================================================\n",
      "1.0\n",
      "0.03134328358208955\n",
      "0.06078147612156295\n",
      "==================================================\n",
      "MOYENNES\n",
      "==================================================\n",
      "précision@k moyenne: 1.0\n",
      "rappel@k moyen: 0.02625886958649376\n",
      "F-score moyen: 0.051080490591138325\n"
     ]
    }
   ],
   "source": [
    "kf = KFold(n_splits=5)\n",
    "indice_fold = 1\n",
    "\n",
    "res_precision = []\n",
    "res_recall= []\n",
    "f_score=[]\n",
    "\n",
    "for trainset, testset in kf.split(data):\n",
    "    print('='*50)\n",
    "    print ('FOLD # ' + str(indice_fold))\n",
    "    print('='*50)\n",
    "    \n",
    "    algo.fit(trainset)\n",
    "    predictions = algo.test(testset)\n",
    "    precisions, recalls = precision_recall_at_k(predictions, k=10, threshold=4)\n",
    "\n",
    "    avg_precision = sum(prec for prec in precisions.values()) / len(precisions)\n",
    "    avg_recall = sum(rec for rec in recalls.values()) / len(recalls)\n",
    "    f=F_score(avg_precision,avg_recall)\n",
    "    \n",
    "    print (avg_precision)\n",
    "    print (avg_recall)\n",
    "    print(f)\n",
    "    \n",
    "    res_precision.append(avg_precision)\n",
    "    res_recall.append(avg_recall)\n",
    "    f_score.append(f)\n",
    "    indice_fold += 1\n",
    "    \n",
    "    \n",
    "print('='*50)\n",
    "print ('MOYENNES')\n",
    "print('='*50)\n",
    "print('précision@k moyenne: ' + str(np.mean(res_precision)))\n",
    "print('rappel@k moyen: ' + str(np.mean(res_recall)))\n",
    "print('F-score moyen: ' + str(np.mean(f_score)))\n"
   ]
  },
  {
   "cell_type": "markdown",
   "metadata": {},
   "source": [
    "## Dataset movie_1M"
   ]
  },
  {
   "cell_type": "code",
   "execution_count": 33,
   "metadata": {},
   "outputs": [],
   "source": [
    "data = pd.read_csv('dataset_movie_1M.csv')[['user_id','book_id','rating']]"
   ]
  },
  {
   "cell_type": "code",
   "execution_count": 34,
   "metadata": {},
   "outputs": [
    {
     "name": "stdout",
     "output_type": "stream",
     "text": [
      "EAM =  0.9338608628723692\n",
      "EQM =  1.2479152852805657\n",
      "Temps :  1.5150177478790283 secondes.\n"
     ]
    }
   ],
   "source": [
    "a=time.time()\n",
    "eam=0\n",
    "l=list(data['rating'])\n",
    "lg=len(l)\n",
    "l=np.array(l)\n",
    "moy=l.mean()\n",
    "for x in range(lg):\n",
    "    eam+=abs(moy-l[x])\n",
    "    \n",
    "print(\"EAM = \", eam/lg)\n",
    "print(\"EQM = \", l.var())\n",
    "print(\"Temps : \",time.time()-a , \"secondes.\")"
   ]
  },
  {
   "cell_type": "markdown",
   "metadata": {},
   "source": [
    "## precison et recall"
   ]
  },
  {
   "cell_type": "code",
   "execution_count": 35,
   "metadata": {},
   "outputs": [],
   "source": [
    "reader = Reader()\n",
    "data = Dataset.load_from_df(data, reader)\n",
    "\n",
    "trainset, testset = train_test_split(data, test_size=.25)"
   ]
  },
  {
   "cell_type": "code",
   "execution_count": 36,
   "metadata": {},
   "outputs": [],
   "source": [
    "algo = SVD(n_factors=1, n_epochs=1,lr_all=.01, reg_all=.01) #on l'utilise juste pour avaoir la bonne forme des résultats"
   ]
  },
  {
   "cell_type": "code",
   "execution_count": 37,
   "metadata": {},
   "outputs": [
    {
     "name": "stdout",
     "output_type": "stream",
     "text": [
      "==================================================\n",
      "FOLD # 1\n",
      "==================================================\n",
      "1.0\n",
      "0.0069605568445475635\n",
      "0.013824884792626725\n",
      "==================================================\n",
      "FOLD # 2\n",
      "==================================================\n",
      "1.0\n",
      "0.006792577866136514\n",
      "0.01349350008227744\n",
      "==================================================\n",
      "FOLD # 3\n",
      "==================================================\n",
      "1.0\n",
      "0.007953603976801988\n",
      "0.015781686667762616\n",
      "==================================================\n",
      "FOLD # 4\n",
      "==================================================\n",
      "1.0\n",
      "0.009283819628647215\n",
      "0.01839684625492773\n",
      "==================================================\n",
      "FOLD # 5\n",
      "==================================================\n",
      "1.0\n",
      "0.010107705053852526\n",
      "0.02001312335958005\n",
      "==================================================\n",
      "MOYENNES\n",
      "==================================================\n",
      "précision@k moyenne: 1.0\n",
      "rappel@k moyen: 0.008219652673997161\n",
      "F-score moyen: 0.016302008231434913\n"
     ]
    }
   ],
   "source": [
    "kf = KFold(n_splits=5)\n",
    "indice_fold = 1\n",
    "\n",
    "res_precision = []\n",
    "res_recall= []\n",
    "f_score=[]\n",
    "\n",
    "for trainset, testset in kf.split(data):\n",
    "    print('='*50)\n",
    "    print ('FOLD # ' + str(indice_fold))\n",
    "    print('='*50)\n",
    "    \n",
    "    algo.fit(trainset)\n",
    "    predictions = algo.test(testset)\n",
    "    precisions, recalls = precision_recall_at_k(predictions, k=10, threshold=4)\n",
    "\n",
    "    avg_precision = sum(prec for prec in precisions.values()) / len(precisions)\n",
    "    avg_recall = sum(rec for rec in recalls.values()) / len(recalls)\n",
    "    f=F_score(avg_precision,avg_recall)\n",
    "    \n",
    "    print (avg_precision)\n",
    "    print (avg_recall)\n",
    "    print(f)\n",
    "    \n",
    "    res_precision.append(avg_precision)\n",
    "    res_recall.append(avg_recall)\n",
    "    f_score.append(f)\n",
    "    indice_fold += 1\n",
    "    \n",
    "    \n",
    "print('='*50)\n",
    "print ('MOYENNES')\n",
    "print('='*50)\n",
    "print('précision@k moyenne: ' + str(np.mean(res_precision)))\n",
    "print('rappel@k moyen: ' + str(np.mean(res_recall)))\n",
    "print('F-score moyen: ' + str(np.mean(f_score)))\n"
   ]
  }
 ],
 "metadata": {
  "kernelspec": {
   "display_name": "Python 3",
   "language": "python",
   "name": "python3"
  },
  "language_info": {
   "codemirror_mode": {
    "name": "ipython",
    "version": 3
   },
   "file_extension": ".py",
   "mimetype": "text/x-python",
   "name": "python",
   "nbconvert_exporter": "python",
   "pygments_lexer": "ipython3",
   "version": "3.7.4"
  }
 },
 "nbformat": 4,
 "nbformat_minor": 2
}
