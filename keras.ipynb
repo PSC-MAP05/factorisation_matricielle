{
 "cells": [
  {
   "cell_type": "markdown",
   "metadata": {},
   "source": [
    "# Recommandations avec un réseau de neuronnes"
   ]
  },
  {
   "cell_type": "code",
   "execution_count": 1,
   "metadata": {},
   "outputs": [
    {
     "name": "stderr",
     "output_type": "stream",
     "text": [
      "Using TensorFlow backend.\n"
     ]
    }
   ],
   "source": [
    "import numpy as np\n",
    "import pandas as pd\n",
    "import matplotlib.pyplot as plt\n",
    "from keras.layers import Input, Embedding, Flatten, Dot, Dense, Concatenate\n",
    "from keras.models import Model\n",
    "from sklearn.model_selection import train_test_split"
   ]
  },
  {
   "cell_type": "code",
   "execution_count": 2,
   "metadata": {},
   "outputs": [],
   "source": [
    "data = pd.read_csv('dataset_movie_100k.csv')"
   ]
  },
  {
   "cell_type": "code",
   "execution_count": 3,
   "metadata": {},
   "outputs": [],
   "source": [
    "train, test = train_test_split(data, test_size=0.2, random_state=42)\n",
    "\n",
    "n_users = len(data.user_id.unique())\n",
    "n_books = len(data.book_id.unique())\n",
    "\n",
    "latent=7"
   ]
  },
  {
   "cell_type": "code",
   "execution_count": 4,
   "metadata": {},
   "outputs": [
    {
     "name": "stdout",
     "output_type": "stream",
     "text": [
      "WARNING:tensorflow:From C:\\Users\\danbe\\Anaconda3\\envs\\test\\lib\\site-packages\\keras\\backend\\tensorflow_backend.py:517: The name tf.placeholder is deprecated. Please use tf.compat.v1.placeholder instead.\n",
      "\n",
      "WARNING:tensorflow:From C:\\Users\\danbe\\Anaconda3\\envs\\test\\lib\\site-packages\\keras\\backend\\tensorflow_backend.py:4138: The name tf.random_uniform is deprecated. Please use tf.random.uniform instead.\n",
      "\n",
      "WARNING:tensorflow:From C:\\Users\\danbe\\Anaconda3\\envs\\test\\lib\\site-packages\\keras\\backend\\tensorflow_backend.py:74: The name tf.get_default_graph is deprecated. Please use tf.compat.v1.get_default_graph instead.\n",
      "\n",
      "WARNING:tensorflow:From C:\\Users\\danbe\\Anaconda3\\envs\\test\\lib\\site-packages\\keras\\optimizers.py:790: The name tf.train.Optimizer is deprecated. Please use tf.compat.v1.train.Optimizer instead.\n",
      "\n",
      "__________________________________________________________________________________________________\n",
      "Layer (type)                    Output Shape         Param #     Connected to                     \n",
      "==================================================================================================\n",
      "Book-Input (InputLayer)         (None, 1)            0                                            \n",
      "__________________________________________________________________________________________________\n",
      "User-Input (InputLayer)         (None, 1)            0                                            \n",
      "__________________________________________________________________________________________________\n",
      "Book-Embedding (Embedding)      (None, 1, 7)         63469       Book-Input[0][0]                 \n",
      "__________________________________________________________________________________________________\n",
      "User-Embedding (Embedding)      (None, 1, 7)         4704        User-Input[0][0]                 \n",
      "__________________________________________________________________________________________________\n",
      "Flatten-Books (Flatten)         (None, 7)            0           Book-Embedding[0][0]             \n",
      "__________________________________________________________________________________________________\n",
      "Flatten-Users (Flatten)         (None, 7)            0           User-Embedding[0][0]             \n",
      "__________________________________________________________________________________________________\n",
      "Dot-Product (Dot)               (None, 1)            0           Flatten-Books[0][0]              \n",
      "                                                                 Flatten-Users[0][0]              \n",
      "==================================================================================================\n",
      "Total params: 68,173\n",
      "Trainable params: 68,173\n",
      "Non-trainable params: 0\n",
      "__________________________________________________________________________________________________\n"
     ]
    }
   ],
   "source": [
    "book_input = Input(shape=[1], name=\"Book-Input\")\n",
    "book_embedding = Embedding(n_books+1,latent , name=\"Book-Embedding\")(book_input)\n",
    "book_vec = Flatten(name=\"Flatten-Books\")(book_embedding)\n",
    "\n",
    "user_input = Input(shape=[1], name=\"User-Input\")\n",
    "user_embedding = Embedding(n_users+1, latent, name=\"User-Embedding\")(user_input)\n",
    "user_vec = Flatten(name=\"Flatten-Users\")(user_embedding)\n",
    "\n",
    "prod = Dot(name=\"Dot-Product\", axes=1)([book_vec, user_vec])\n",
    "model = Model([user_input, book_input], prod)\n",
    "model.compile('adam', 'mean_squared_error', metrics=['accuracy'])\n",
    "\n",
    "model.summary()"
   ]
  },
  {
   "cell_type": "markdown",
   "metadata": {},
   "source": [
    "## on inspecte les indices des book_id"
   ]
  },
  {
   "cell_type": "code",
   "execution_count": 5,
   "metadata": {},
   "outputs": [
    {
     "name": "stdout",
     "output_type": "stream",
     "text": [
      "il y a 9066 unique books\n",
      "l'indice max de book_id est 163949\n"
     ]
    }
   ],
   "source": [
    "unique_book_id = list(set(data.book_id))\n",
    "n_unique_books = len(unique_book_id)\n",
    "print('il y a {} unique books'.format(n_unique_books))\n",
    "print(\"l'indice max de book_id est {}\".format(max(data.book_id)))"
   ]
  },
  {
   "cell_type": "markdown",
   "metadata": {},
   "source": [
    "### les indices n'allant pas de 0 a n_unique on doit les re-mapper"
   ]
  },
  {
   "cell_type": "code",
   "execution_count": 6,
   "metadata": {},
   "outputs": [],
   "source": [
    "book_id_to_index = {book_id: ix for ix, book_id in enumerate(unique_book_id)}"
   ]
  },
  {
   "cell_type": "code",
   "execution_count": 7,
   "metadata": {},
   "outputs": [
    {
     "name": "stderr",
     "output_type": "stream",
     "text": [
      "C:\\Users\\danbe\\Anaconda3\\envs\\test\\lib\\site-packages\\ipykernel_launcher.py:2: SettingWithCopyWarning: \n",
      "A value is trying to be set on a copy of a slice from a DataFrame.\n",
      "Try using .loc[row_indexer,col_indexer] = value instead\n",
      "\n",
      "See the caveats in the documentation: http://pandas.pydata.org/pandas-docs/stable/user_guide/indexing.html#returning-a-view-versus-a-copy\n",
      "  \n",
      "C:\\Users\\danbe\\Anaconda3\\envs\\test\\lib\\site-packages\\ipykernel_launcher.py:3: SettingWithCopyWarning: \n",
      "A value is trying to be set on a copy of a slice from a DataFrame.\n",
      "Try using .loc[row_indexer,col_indexer] = value instead\n",
      "\n",
      "See the caveats in the documentation: http://pandas.pydata.org/pandas-docs/stable/user_guide/indexing.html#returning-a-view-versus-a-copy\n",
      "  This is separate from the ipykernel package so we can avoid doing imports until\n"
     ]
    }
   ],
   "source": [
    "data['book_id_mapped'] = data['book_id'].apply(lambda book_id: book_id_to_index[book_id] )\n",
    "train['book_id_mapped'] = train['book_id'].apply(lambda book_id: book_id_to_index[book_id] )\n",
    "test['book_id_mapped'] = test['book_id'].apply(lambda book_id: book_id_to_index[book_id] )\n"
   ]
  },
  {
   "cell_type": "markdown",
   "metadata": {},
   "source": [
    "## on inspecte les indices des user_id"
   ]
  },
  {
   "cell_type": "code",
   "execution_count": 8,
   "metadata": {},
   "outputs": [
    {
     "name": "stdout",
     "output_type": "stream",
     "text": [
      "il y a 671 unique books\n",
      "l'indice max de user_id est 671\n"
     ]
    }
   ],
   "source": [
    "unique_user_id = list(set(train.user_id))\n",
    "n_unique_books = len(unique_user_id)\n",
    "print('il y a {} unique books'.format(n_unique_books))\n",
    "print(\"l'indice max de user_id est {}\".format(max(train.user_id)))"
   ]
  },
  {
   "cell_type": "code",
   "execution_count": 9,
   "metadata": {},
   "outputs": [
    {
     "name": "stdout",
     "output_type": "stream",
     "text": [
      "WARNING:tensorflow:From C:\\Users\\danbe\\Anaconda3\\envs\\test\\lib\\site-packages\\keras\\backend\\tensorflow_backend.py:986: The name tf.assign_add is deprecated. Please use tf.compat.v1.assign_add instead.\n",
      "\n",
      "WARNING:tensorflow:From C:\\Users\\danbe\\Anaconda3\\envs\\test\\lib\\site-packages\\keras\\backend\\tensorflow_backend.py:973: The name tf.assign is deprecated. Please use tf.compat.v1.assign instead.\n",
      "\n",
      "Train on 64002 samples, validate on 16001 samples\n",
      "Epoch 1/10\n",
      " - 6s - loss: 12.8085 - acc: 0.0020 - val_loss: 9.7666 - val_acc: 0.0143\n",
      "Epoch 2/10\n",
      " - 5s - loss: 6.1464 - acc: 0.0698 - val_loss: 4.1228 - val_acc: 0.1233\n",
      "Epoch 3/10\n",
      " - 4s - loss: 3.0293 - acc: 0.1675 - val_loss: 2.6544 - val_acc: 0.1923\n",
      "Epoch 4/10\n",
      " - 5s - loss: 1.9900 - acc: 0.2333 - val_loss: 2.0175 - val_acc: 0.2452\n",
      "Epoch 5/10\n",
      " - 4s - loss: 1.4944 - acc: 0.2763 - val_loss: 1.7023 - val_acc: 0.2765\n",
      "Epoch 6/10\n",
      " - 4s - loss: 1.2202 - acc: 0.3024 - val_loss: 1.5306 - val_acc: 0.2935\n",
      "Epoch 7/10\n",
      " - 5s - loss: 1.0540 - acc: 0.3147 - val_loss: 1.4293 - val_acc: 0.3038\n",
      "Epoch 8/10\n",
      " - 5s - loss: 0.9468 - acc: 0.3273 - val_loss: 1.3685 - val_acc: 0.3110\n",
      "Epoch 9/10\n",
      " - 5s - loss: 0.8739 - acc: 0.3347 - val_loss: 1.3293 - val_acc: 0.3105\n",
      "Epoch 10/10\n",
      " - 5s - loss: 0.8212 - acc: 0.3391 - val_loss: 1.3032 - val_acc: 0.3106\n"
     ]
    }
   ],
   "source": [
    "history = model.fit([list(train.user_id), list(train.book_id_mapped)], train.rating, epochs=10, verbose=2, validation_split=.2, )"
   ]
  },
  {
   "cell_type": "code",
   "execution_count": 10,
   "metadata": {},
   "outputs": [
    {
     "data": {
      "text/plain": [
       "Text(0, 0.5, 'Erreur Quadratique Moyenne')"
      ]
     },
     "execution_count": 10,
     "metadata": {},
     "output_type": "execute_result"
    },
    {
     "data": {
      "image/png": "[encoded data removed]",
      "text/plain": [
       "<Figure size 432x288 with 1 Axes>"
      ]
     },
     "metadata": {
      "needs_background": "light"
     },
     "output_type": "display_data"
    },
    {
     "data": {
      "image/png": "[encoded data removed]",
      "text/plain": [
       "<Figure size 432x288 with 1 Axes>"
      ]
     },
     "metadata": {
      "needs_background": "light"
     },
     "output_type": "display_data"
    }
   ],
   "source": [
    "traque = pd.DataFrame(history.history)\n",
    "traque.columns=['perte validation','précision validation','perte entrainement', 'précision entrainement']\n",
    "traque[['perte validation','perte entrainement']].plot()\n",
    "plt.xlabel('Epoch')\n",
    "plt.ylabel('Erreur Quadratique Moyenne')\n",
    "traque[['précision validation','précision entrainement']].plot()\n",
    "plt.xlabel('Epoch')\n",
    "plt.ylabel('Erreur Quadratique Moyenne')"
   ]
  },
  {
   "cell_type": "code",
   "execution_count": 11,
   "metadata": {},
   "outputs": [
    {
     "name": "stdout",
     "output_type": "stream",
     "text": [
      "[3.4447484] 4.0\n",
      "[3.4758081] 3.0\n",
      "[3.3054328] 4.0\n",
      "[3.5655084] 3.0\n",
      "[2.3117692] 3.0\n",
      "[3.6595595] 3.0\n",
      "[3.1435695] 2.0\n",
      "[2.3791072] 5.0\n",
      "[4.2542233] 5.0\n",
      "[4.2835655] 3.5\n"
     ]
    }
   ],
   "source": [
    "predictions = model.predict([train.user_id.head(20), train.book_id_mapped.head(20)])\n",
    "\n",
    "for i in range(0,10):\n",
    "    print(predictions[i], train.rating.iloc[i])"
   ]
  },
  {
   "cell_type": "code",
   "execution_count": 36,
   "metadata": {},
   "outputs": [
    {
     "data": {
      "text/plain": [
       "'mean_squared_error'"
      ]
     },
     "execution_count": 36,
     "metadata": {},
     "output_type": "execute_result"
    }
   ],
   "source": [
    "model.loss"
   ]
  },
  {
   "cell_type": "code",
   "execution_count": 13,
   "metadata": {},
   "outputs": [
    {
     "data": {
      "text/html": [
       "<div>\n",
       "<style scoped>\n",
       "    .dataframe tbody tr th:only-of-type {\n",
       "        vertical-align: middle;\n",
       "    }\n",
       "\n",
       "    .dataframe tbody tr th {\n",
       "        vertical-align: top;\n",
       "    }\n",
       "\n",
       "    .dataframe thead th {\n",
       "        text-align: right;\n",
       "    }\n",
       "</style>\n",
       "<table border=\"1\" class=\"dataframe\">\n",
       "  <thead>\n",
       "    <tr style=\"text-align: right;\">\n",
       "      <th></th>\n",
       "      <th>perte validation</th>\n",
       "      <th>précision validation</th>\n",
       "      <th>perte entrainement</th>\n",
       "      <th>précision entrainement</th>\n",
       "    </tr>\n",
       "  </thead>\n",
       "  <tbody>\n",
       "    <tr>\n",
       "      <td>0</td>\n",
       "      <td>9.766629</td>\n",
       "      <td>0.014312</td>\n",
       "      <td>12.808529</td>\n",
       "      <td>0.001969</td>\n",
       "    </tr>\n",
       "    <tr>\n",
       "      <td>2</td>\n",
       "      <td>2.654401</td>\n",
       "      <td>0.192300</td>\n",
       "      <td>3.029341</td>\n",
       "      <td>0.167479</td>\n",
       "    </tr>\n",
       "    <tr>\n",
       "      <td>4</td>\n",
       "      <td>1.702302</td>\n",
       "      <td>0.276483</td>\n",
       "      <td>1.494403</td>\n",
       "      <td>0.276335</td>\n",
       "    </tr>\n",
       "    <tr>\n",
       "      <td>6</td>\n",
       "      <td>1.429334</td>\n",
       "      <td>0.303794</td>\n",
       "      <td>1.053981</td>\n",
       "      <td>0.314709</td>\n",
       "    </tr>\n",
       "    <tr>\n",
       "      <td>8</td>\n",
       "      <td>1.329289</td>\n",
       "      <td>0.310543</td>\n",
       "      <td>0.873872</td>\n",
       "      <td>0.334661</td>\n",
       "    </tr>\n",
       "  </tbody>\n",
       "</table>\n",
       "</div>"
      ],
      "text/plain": [
       "   perte validation  précision validation  perte entrainement  \\\n",
       "0          9.766629              0.014312           12.808529   \n",
       "2          2.654401              0.192300            3.029341   \n",
       "4          1.702302              0.276483            1.494403   \n",
       "6          1.429334              0.303794            1.053981   \n",
       "8          1.329289              0.310543            0.873872   \n",
       "\n",
       "   précision entrainement  \n",
       "0                0.001969  \n",
       "2                0.167479  \n",
       "4                0.276335  \n",
       "6                0.314709  \n",
       "8                0.334661  "
      ]
     },
     "execution_count": 13,
     "metadata": {},
     "output_type": "execute_result"
    }
   ],
   "source": [
    "traque[::2]"
   ]
  }
 ],
 "metadata": {
  "kernelspec": {
   "display_name": "Python 3",
   "language": "python",
   "name": "python3"
  },
  "language_info": {
   "codemirror_mode": {
    "name": "ipython",
    "version": 3
   },
   "file_extension": ".py",
   "mimetype": "text/x-python",
   "name": "python",
   "nbconvert_exporter": "python",
   "pygments_lexer": "ipython3",
   "version": "3.7.4"
  }
 },
 "nbformat": 4,
 "nbformat_minor": 2
}
