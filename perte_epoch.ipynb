{
 "cells": [
  {
   "cell_type": "code",
   "execution_count": 1,
   "metadata": {},
   "outputs": [],
   "source": [
    "import numpy as np\n",
    "import pandas as pd\n",
    "from surprise import Reader, Dataset\n",
    "from surprise import SVD\n",
    "import surprise\n",
    "import matplotlib.pyplot as plt"
   ]
  },
  {
   "cell_type": "code",
   "execution_count": 2,
   "metadata": {},
   "outputs": [],
   "source": [
    "data = pd.read_csv('dataset_movie_100k.csv')[['user_id','book_id','rating']]\n",
    "reader = Reader()\n",
    "data = Dataset.load_from_df(data, reader)"
   ]
  },
  {
   "cell_type": "code",
   "execution_count": 4,
   "metadata": {},
   "outputs": [
    {
     "name": "stdout",
     "output_type": "stream",
     "text": [
      "Evaluating MSE of algorithm SVD on 3 split(s).\n",
      "\n",
      "                  Fold 1  Fold 2  Fold 3  Mean    Std     \n",
      "MSE (testset)     0.8819  0.8722  0.8877  0.8806  0.0064  \n",
      "Fit time          0.19    0.26    0.21    0.22    0.03    \n",
      "Test time         0.55    0.58    0.74    0.62    0.08    \n",
      "Evaluating MSE of algorithm SVD on 3 split(s).\n",
      "\n",
      "                  Fold 1  Fold 2  Fold 3  Mean    Std     \n",
      "MSE (testset)     0.8475  0.8398  0.8553  0.8475  0.0063  \n",
      "Fit time          0.51    0.39    0.44    0.45    0.05    \n",
      "Test time         0.64    0.55    0.51    0.57    0.06    \n",
      "Evaluating MSE of algorithm SVD on 3 split(s).\n",
      "\n",
      "                  Fold 1  Fold 2  Fold 3  Mean    Std     \n",
      "MSE (testset)     0.8245  0.8362  0.8344  0.8317  0.0051  \n",
      "Fit time          0.50    0.50    0.57    0.52    0.03    \n",
      "Test time         0.56    0.62    0.56    0.58    0.03    \n",
      "Evaluating MSE of algorithm SVD on 3 split(s).\n",
      "\n",
      "                  Fold 1  Fold 2  Fold 3  Mean    Std     \n",
      "MSE (testset)     0.8281  0.8134  0.8240  0.8218  0.0062  \n",
      "Fit time          0.68    0.73    0.81    0.74    0.05    \n",
      "Test time         0.61    0.61    0.72    0.64    0.05    \n",
      "Evaluating MSE of algorithm SVD on 3 split(s).\n",
      "\n",
      "                  Fold 1  Fold 2  Fold 3  Mean    Std     \n",
      "MSE (testset)     0.8063  0.8182  0.8196  0.8147  0.0060  \n",
      "Fit time          1.14    1.25    1.11    1.17    0.06    \n",
      "Test time         0.92    0.80    0.55    0.76    0.15    \n",
      "Evaluating MSE of algorithm SVD on 3 split(s).\n",
      "\n",
      "                  Fold 1  Fold 2  Fold 3  Mean    Std     \n",
      "MSE (testset)     0.8085  0.8092  0.8147  0.8108  0.0028  \n",
      "Fit time          0.97    1.08    1.02    1.02    0.04    \n",
      "Test time         0.63    0.59    0.56    0.60    0.03    \n",
      "Evaluating MSE of algorithm SVD on 3 split(s).\n",
      "\n",
      "                  Fold 1  Fold 2  Fold 3  Mean    Std     \n",
      "MSE (testset)     0.8028  0.8139  0.8081  0.8083  0.0045  \n",
      "Fit time          1.02    1.15    1.41    1.19    0.16    \n",
      "Test time         0.58    0.65    0.70    0.64    0.05    \n",
      "Evaluating MSE of algorithm SVD on 3 split(s).\n",
      "\n",
      "                  Fold 1  Fold 2  Fold 3  Mean    Std     \n",
      "MSE (testset)     0.8083  0.8100  0.8020  0.8068  0.0034  \n",
      "Fit time          1.27    1.41    1.21    1.30    0.08    \n",
      "Test time         0.54    0.76    0.48    0.59    0.12    \n",
      "Evaluating MSE of algorithm SVD on 3 split(s).\n",
      "\n",
      "                  Fold 1  Fold 2  Fold 3  Mean    Std     \n",
      "MSE (testset)     0.8035  0.8092  0.7982  0.8036  0.0045  \n",
      "Fit time          1.46    1.51    1.42    1.47    0.04    \n",
      "Test time         0.59    0.55    0.56    0.57    0.02    \n",
      "Evaluating MSE of algorithm SVD on 3 split(s).\n",
      "\n",
      "                  Fold 1  Fold 2  Fold 3  Mean    Std     \n",
      "MSE (testset)     0.8042  0.8164  0.7912  0.8039  0.0103  \n",
      "Fit time          1.92    1.52    1.45    1.63    0.21    \n",
      "Test time         0.60    0.51    0.56    0.56    0.04    \n",
      "Evaluating MSE of algorithm SVD on 3 split(s).\n",
      "\n",
      "                  Fold 1  Fold 2  Fold 3  Mean    Std     \n",
      "MSE (testset)     0.8106  0.8099  0.7993  0.8066  0.0052  \n",
      "Fit time          1.71    1.77    1.93    1.81    0.09    \n",
      "Test time         0.49    0.59    0.57    0.55    0.04    \n",
      "Evaluating MSE of algorithm SVD on 3 split(s).\n",
      "\n",
      "                  Fold 1  Fold 2  Fold 3  Mean    Std     \n",
      "MSE (testset)     0.7988  0.8234  0.7933  0.8052  0.0131  \n",
      "Fit time          2.24    1.79    1.82    1.95    0.20    \n",
      "Test time         0.54    0.51    0.54    0.53    0.01    \n",
      "Evaluating MSE of algorithm SVD on 3 split(s).\n",
      "\n",
      "                  Fold 1  Fold 2  Fold 3  Mean    Std     \n",
      "MSE (testset)     0.8013  0.8099  0.7975  0.8029  0.0052  \n",
      "Fit time          1.90    1.91    1.92    1.91    0.01    \n",
      "Test time         0.58    0.60    0.61    0.59    0.01    \n"
     ]
    },
    {
     "data": {
      "image/png": "[encoded data removed]",
      "text/plain": [
       "<Figure size 432x288 with 1 Axes>"
      ]
     },
     "metadata": {
      "needs_background": "light"
     },
     "output_type": "display_data"
    }
   ],
   "source": [
    "perte=[]\n",
    "for n in range(1,14):\n",
    "    algo = SVD(n_factors=8, n_epochs=n,lr_all=.01, reg_all=0.01)\n",
    "    results = surprise.model_selection.validation.cross_validate(algo, data, measures=['MSE'], cv=3, verbose=True)\n",
    "    mse=results['test_mse'].mean()\n",
    "    perte.append(mse)\n",
    "plt.plot(range(1,14),perte)\n",
    "plt.show()"
   ]
  },
  {
   "cell_type": "code",
   "execution_count": 6,
   "metadata": {},
   "outputs": [
    {
     "data": {
      "image/png": "[encoded data removed]",
      "text/plain": [
       "<Figure size 432x288 with 1 Axes>"
      ]
     },
     "metadata": {
      "needs_background": "light"
     },
     "output_type": "display_data"
    }
   ],
   "source": [
    "plt.plot(range(1,14),perte)\n",
    "plt.xscale(\"log\")\n",
    "plt.show()"
   ]
  },
  {
   "cell_type": "code",
   "execution_count": null,
   "metadata": {},
   "outputs": [],
   "source": []
  }
 ],
 "metadata": {
  "kernelspec": {
   "display_name": "Python 3",
   "language": "python",
   "name": "python3"
  },
  "language_info": {
   "codemirror_mode": {
    "name": "ipython",
    "version": 3
   },
   "file_extension": ".py",
   "mimetype": "text/x-python",
   "name": "python",
   "nbconvert_exporter": "python",
   "pygments_lexer": "ipython3",
   "version": "3.7.4"
  }
 },
 "nbformat": 4,
 "nbformat_minor": 2
}
